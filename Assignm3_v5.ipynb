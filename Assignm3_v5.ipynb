{
 "cells": [
  {
   "cell_type": "code",
   "execution_count": 2,
   "id": "d4d2dc15",
   "metadata": {},
   "outputs": [
    {
     "name": "stdout",
     "output_type": "stream",
     "text": [
      "enter CPU number (0/1)?1\n",
      "taskset -c 1 python3 fib.py\n",
      "time spent: 4.410743713378906e-05\n"
     ]
    },
    {
     "data": {
      "text/plain": [
       "0"
      ]
     },
     "execution_count": 2,
     "metadata": {},
     "output_type": "execute_result"
    }
   ],
   "source": [
    "# from lab3\n",
    "import os\n",
    "cpu = input('enter CPU number (0/1)?')\n",
    "str = \"taskset -c \"+cpu+\" python3 fib.py\"\n",
    "print(str)\n",
    "os.system(str)"
   ]
  },
  {
   "cell_type": "code",
   "execution_count": 11,
   "id": "f36476d4",
   "metadata": {},
   "outputs": [
    {
     "name": "stdout",
     "output_type": "stream",
     "text": [
      "CPU usage: 1.1%\n",
      "CPU usage: 5.5%\n",
      "CPU usage: 2.0%\n"
     ]
    },
    {
     "ename": "KeyboardInterrupt",
     "evalue": "",
     "output_type": "error",
     "traceback": [
      "\u001b[0;31m---------------------------------------------------------------------------\u001b[0m",
      "\u001b[0;31mKeyboardInterrupt\u001b[0m                         Traceback (most recent call last)",
      "Input \u001b[0;32mIn [11]\u001b[0m, in \u001b[0;36m<cell line: 10>\u001b[0;34m()\u001b[0m\n\u001b[1;32m     15\u001b[0m \u001b[38;5;28mprint\u001b[39m(\u001b[38;5;124mf\u001b[39m\u001b[38;5;124m\"\u001b[39m\u001b[38;5;124mCPU usage: \u001b[39m\u001b[38;5;132;01m{\u001b[39;00mcpu_usage\u001b[38;5;132;01m}\u001b[39;00m\u001b[38;5;124m%\u001b[39m\u001b[38;5;124m\"\u001b[39m)\n\u001b[1;32m     17\u001b[0m \u001b[38;5;66;03m# Sleep for 1 second\u001b[39;00m\n\u001b[0;32m---> 18\u001b[0m \u001b[43mtime\u001b[49m\u001b[38;5;241;43m.\u001b[39;49m\u001b[43msleep\u001b[49m\u001b[43m(\u001b[49m\u001b[38;5;241;43m1\u001b[39;49m\u001b[43m)\u001b[49m\n",
      "\u001b[0;31mKeyboardInterrupt\u001b[0m: "
     ]
    }
   ],
   "source": [
    "# use psutil\n",
    "import psutil, time\n",
    "\n",
    "# Create a function to get the CPU usage\n",
    "def get_cpu_usage():\n",
    "  \"\"\"Returns the CPU usage as a percentage.\"\"\"\n",
    "  return psutil.cpu_percent()\n",
    "\n",
    "# Create a loop to continuously monitor the CPU usage\n",
    "while True:\n",
    "  # Get the CPU usage\n",
    "  cpu_usage = get_cpu_usage()\n",
    "\n",
    "  # Print the CPU usage to the console\n",
    "  print(f\"CPU usage: {cpu_usage}%\")\n",
    "\n",
    "  # Sleep for 1 second\n",
    "  time.sleep(1)"
   ]
  },
  {
   "cell_type": "code",
   "execution_count": null,
   "id": "ec94f144",
   "metadata": {},
   "outputs": [],
   "source": [
    "#Implement ELAPSED TIME\n",
    "import time\n",
    "start = time.time()\n",
    "#<<<< tratar fibonacci con argumento de entrada que tome valores 1-30\n",
    "time.sleep(1)\n",
    "end = time.time()\n",
    "print(end - start)"
   ]
  },
  {
   "cell_type": "code",
   "execution_count": 9,
   "id": "f01c53de",
   "metadata": {},
   "outputs": [
    {
     "name": "stdout",
     "output_type": "stream",
     "text": [
      "Library version: 671\n",
      "55033\n",
      "6486\n",
      "5873\n",
      "5771\n",
      "6026\n"
     ]
    }
   ],
   "source": [
    "#new /clock_example0/cycletime2.c version2\n",
    "# /home/xilinx/jupyter_notebooks/RLS/Assignm3_PMU/clock_example0#\n",
    "# https://docs.python.org/3/library/ctypes.html\n",
    "\n",
    "%reset -f\n",
    "import ctypes, time\n",
    "_libInC = ctypes.CDLL('./clock_example0/libMyLib.so')\n",
    "val = _libInC.version();print(\"Library version: \"+ str(val))\n",
    "\n",
    "for n in range(5):\n",
    "    _libInC.init_cntrs(1,0)\n",
    "    #time.sleep(1)\n",
    "    val = ctypes.c_uint(_libInC.gcyclec()).value;print(val)    "
   ]
  },
  {
   "cell_type": "code",
   "execution_count": null,
   "id": "f879eb49",
   "metadata": {},
   "outputs": [],
   "source": [
    "#new /clock_example0/cycletime2.c version2\n",
    "# /home/xilinx/jupyter_notebooks/RLS/Assignm3_PMU/clock_example0#\n",
    "# https://docs.python.org/3/library/ctypes.html\n",
    "\n",
    "%reset -f\n",
    "import ctypes, time\n",
    "_libInC = ctypes.CDLL('./clock_example0/libMyLib.so')\n",
    "val = _libInC.version();print(\"Library version: \"+ str(val))\n",
    "\n",
    "for n in range(5):\n",
    "    _libInC.init_cntrs(1,0)\n",
    "    #time.sleep(1)\n",
    "    val = ctypes.c_uint(_libInC.gcyclec()).value;print(val)    \n"
   ]
  },
  {
   "cell_type": "code",
   "execution_count": 8,
   "id": "30b8ecac",
   "metadata": {},
   "outputs": [
    {
     "name": "stdout",
     "output_type": "stream",
     "text": [
      "Library version: 671\n",
      "taskset -c 1 python3 fib.py 0\n",
      "Please enter a positive integer\n",
      "time spent: 3.9577484130859375e-05\n",
      "taskset -c 1 python3 fib.py 0-> NumberOfTerms: 0 -> Elapsed time = 0.2825541, cycles = 30899800.25\n",
      "taskset -c 1 python3 fib.py 5\n",
      "time spent: 4.57763671875e-05\n",
      "taskset -c 1 python3 fib.py 5-> NumberOfTerms: 5 -> Elapsed time = 0.283452, cycles = 26860213.75\n",
      "taskset -c 1 python3 fib.py 10\n",
      "time spent: 0.00033855438232421875\n",
      "taskset -c 1 python3 fib.py 10-> NumberOfTerms: 10 -> Elapsed time = 0.2810333, cycles = 24839358.75\n",
      "taskset -c 1 python3 fib.py 15\n",
      "time spent: 0.003538370132446289\n",
      "taskset -c 1 python3 fib.py 15-> NumberOfTerms: 15 -> Elapsed time = 0.284327, cycles = 25086398.5\n",
      "taskset -c 1 python3 fib.py 20\n",
      "time spent: 0.03590726852416992\n",
      "taskset -c 1 python3 fib.py 20-> NumberOfTerms: 20 -> Elapsed time = 0.3175039, cycles = 25147380.5\n",
      "taskset -c 1 python3 fib.py 25\n",
      "time spent: 0.39580512046813965\n",
      "taskset -c 1 python3 fib.py 25-> NumberOfTerms: 25 -> Elapsed time = 0.6754739, cycles = 25174258.25\n",
      "taskset -c 1 python3 fib.py 30\n",
      "time spent: 4.454235076904297\n",
      "taskset -c 1 python3 fib.py 30-> NumberOfTerms: 30 -> Elapsed time = 4.7351103, cycles = 174938228.0\n",
      "taskset -c 1 python3 fib.py 35\n",
      "time spent: 48.926105976104736\n",
      "taskset -c 1 python3 fib.py 35-> NumberOfTerms: 35 -> Elapsed time = 49.2074983, cycles = 810312796.75\n"
     ]
    },
    {
     "data": {
      "image/png": "[encoded data removed]",
      "text/plain": [
       "<Figure size 432x288 with 2 Axes>"
      ]
     },
     "metadata": {
      "needs_background": "light"
     },
     "output_type": "display_data"
    }
   ],
   "source": [
    "# Part A3.2: Comparing and Gathering Data, (running fibonacci sequence) \n",
    "%reset -f\n",
    "CPU, TERMSary, ELAPSEDary, CYCLESary = \"1\", [], [], []\n",
    "\n",
    "import os, ctypes, time, math;import matplotlib.pyplot as plt \n",
    "\n",
    "def Average(lst): \n",
    "    return sum(lst) / len(lst) \n",
    "\n",
    "_libInC = ctypes.CDLL('./clock_example0/libMyLib.so')\n",
    "val = _libInC.version();print(\"Library version: \"+ str(val))\n",
    "for NumberOfTerms in range(0,40,5):\n",
    "    cmd = \"taskset -c \"+CPU+\" python3 fib.py \"+ str(NumberOfTerms);print (cmd)\n",
    "    start = time.time()\n",
    "    _libInC.init_cntrs(1,0)\n",
    "    os.system(cmd)\n",
    "    lst = []\n",
    "    for n in range(4):\n",
    "        cycles = ctypes.c_uint(_libInC.gcyclec()).value        \n",
    "        lst.append(cycles)\n",
    "    ave = Average(lst) \n",
    "    end = time.time();elapsed = end - start;elapsed = round(elapsed, 7)\n",
    "    print(cmd+\"-> NumberOfTerms: \"+ str(NumberOfTerms)+ \" -> Elapsed time = \" +str(elapsed)\\\n",
    "          +\", cycles = \"+str(ave))\n",
    "    TERMSary.append(NumberOfTerms);ELAPSEDary.append(elapsed);CYCLESary.append(ave)  \n",
    "    lst = []\n",
    "\n",
    "x = TERMSary\n",
    "dataset_1 = ELAPSEDary\n",
    "dataset_2 = CYCLESary\n",
    "fig, ax1 = plt.subplots() \n",
    " \n",
    "color = 'tab:red'\n",
    "ax1.set_xlabel('X-axis, Number of terms') \n",
    "ax1.set_ylabel('Y1-axis, Elapsed time in seconds', color = color) \n",
    "ax1.plot(x, dataset_1, color = color) \n",
    "ax1.tick_params(axis ='y', labelcolor = color) \n",
    "ax2 = ax1.twinx() # Adding Twin Axes to plot using dataset_2\n",
    "color = 'tab:green'\n",
    "ax2.set_ylabel('Y2-axis, CPU cycles', color = color) \n",
    "ax2.plot(x, dataset_2, color = color) \n",
    "ax2.tick_params(axis ='y', labelcolor = color) \n",
    "plt.title('[Elapsed time in seconds(log)] vs [CPU cycles(log)]', fontweight =\"bold\") \n",
    "plt.yscale(\"log\")\n",
    "plt.show()"
   ]
  },
  {
   "cell_type": "code",
   "execution_count": 21,
   "id": "8789bd66",
   "metadata": {},
   "outputs": [
    {
     "name": "stdout",
     "output_type": "stream",
     "text": [
      "3.333333333333333e-10\n"
     ]
    }
   ],
   "source": [
    "#Cycles To Seconds Formula\n",
    "f = 3e9#650000000\n",
    "cycles = 100\n",
    "\n",
    "secs=(1/( *f))*cycles\n",
    "\n",
    "print(secs)\n"
   ]
  },
  {
   "cell_type": "code",
   "execution_count": 27,
   "id": "25dded08",
   "metadata": {},
   "outputs": [
    {
     "name": "stdout",
     "output_type": "stream",
     "text": [
      "3.333333333333333e-10\n",
      "----------\n",
      "1.0\n"
     ]
    }
   ],
   "source": [
    "f = 650 000 000\n",
    "JustOneCycle = 1/f #secons\n",
    "print(JustOneCycle)\n",
    "print(\"----------\")\n",
    "cycles = 3000000000\n",
    "TimeElapsedInSeconds = cycles * JustOneCycle\n",
    "print(TimeElapsedInSeconds)"
   ]
  },
  {
   "cell_type": "code",
   "execution_count": 24,
   "id": "5a050410",
   "metadata": {},
   "outputs": [
    {
     "name": "stdout",
     "output_type": "stream",
     "text": [
      "Library version: 671\n",
      "taskset -c 1 python3 fib.py 0\n",
      "Please enter a positive integer\n",
      "time spent: 4.029273986816406e-05\n",
      "taskset -c 1 python3 fib.py 0-> NumberOfTerms: 0:\n",
      "Elapsed time = 0.288913488, Elapsed Seconds by get cycles = 1.6421061538461539\n",
      "taskset -c 1 python3 fib.py 5\n",
      "time spent: 4.410743713378906e-05\n",
      "taskset -c 1 python3 fib.py 5-> NumberOfTerms: 5:\n",
      "Elapsed time = 0.281714201, Elapsed Seconds by get cycles = 0.6000323076923078\n",
      "taskset -c 1 python3 fib.py 10\n",
      "time spent: 0.000339508056640625\n",
      "taskset -c 1 python3 fib.py 10-> NumberOfTerms: 10:\n",
      "Elapsed time = 0.281897068, Elapsed Seconds by get cycles = 0.6565969230769231\n",
      "taskset -c 1 python3 fib.py 15\n",
      "time spent: 0.0034394264221191406\n",
      "taskset -c 1 python3 fib.py 15-> NumberOfTerms: 15:\n",
      "Elapsed time = 0.285347223, Elapsed Seconds by get cycles = 0.63026\n",
      "taskset -c 1 python3 fib.py 20\n",
      "time spent: 0.03600001335144043\n",
      "taskset -c 1 python3 fib.py 20-> NumberOfTerms: 20:\n",
      "Elapsed time = 0.317011595, Elapsed Seconds by get cycles = 0.6317815384615385\n",
      "taskset -c 1 python3 fib.py 25\n",
      "time spent: 0.39605093002319336\n",
      "taskset -c 1 python3 fib.py 25-> NumberOfTerms: 25:\n",
      "Elapsed time = 0.675740004, Elapsed Seconds by get cycles = 0.6107076923076923\n",
      "taskset -c 1 python3 fib.py 30\n",
      "time spent: 4.460162162780762\n",
      "taskset -c 1 python3 fib.py 30-> NumberOfTerms: 30:\n",
      "Elapsed time = 4.741090059, Elapsed Seconds by get cycles = 4.572081538461538\n"
     ]
    },
    {
     "data": {
      "image/png": "[encoded data removed]",
      "text/plain": [
       "<Figure size 432x288 with 2 Axes>"
      ]
     },
     "metadata": {
      "needs_background": "light"
     },
     "output_type": "display_data"
    }
   ],
   "source": [
    "# Part A3.2: Comparing and Gathering Data, ERROR BAR (running fibonacci sequence) \n",
    "%reset -f\n",
    "CPU, TERMSary, ELAPSEDary, ELAPSEDCYCLESary = \"1\", [], [], []\n",
    "\n",
    "import os, ctypes, time, math;import matplotlib.pyplot as plt \n",
    "f = 650000\n",
    "JustOneCycle = 1/f #secons\n",
    "\n",
    "def Average(lst): \n",
    "    return sum(lst) / len(lst) \n",
    "\n",
    "_libInC = ctypes.CDLL('./clock_example0/libMyLib.so')\n",
    "val = _libInC.version();print(\"Library version: \"+ str(val))\n",
    "_libInC.init_cntrs(1,1)\n",
    "for NumberOfTerms in range(0,35,5):\n",
    "    cmd = \"taskset -c \"+CPU+\" python3 fib.py \"+ str(NumberOfTerms);print (cmd)\n",
    "    start = time.time()\n",
    "    #_libInC.init_cntrs(1,1)\n",
    "    StartCycles = ctypes.c_uint(_libInC.gcyclec()).value \n",
    "    os.system(cmd)\n",
    "    lst = []\n",
    "    #for n in range(4):\n",
    "    #    cycles = ctypes.c_uint(_libInC.gcyclec()).value        \n",
    "    #    lst.append(cycles)\n",
    "    #ave = Average(lst)\n",
    "    StopCycles = ctypes.c_uint(_libInC.gcyclec()).value \n",
    "    ElapsedTimeCycles = StopCycles - StartCycles\n",
    "    TimeElapsedInSeconds = ElapsedTimeCycles * JustOneCycle\n",
    "    #TimeElapsedInSeconds = round(TimeElapsedInSeconds, 9)\n",
    "    end = time.time();elapsed = end - start;elapsed = round(elapsed, 9)\n",
    "    print(cmd+\"-> NumberOfTerms: \"+ str(NumberOfTerms)+ \":\\nElapsed time = \" +str(elapsed)\\\n",
    "          +\", Elapsed Seconds by get cycles = \"+str(TimeElapsedInSeconds))\n",
    "    TERMSary.append(NumberOfTerms);ELAPSEDary.append(elapsed);ELAPSEDCYCLESary.append(TimeElapsedInSeconds)  \n",
    "    lst = []\n",
    "\n",
    "x = TERMSary\n",
    "dataset_1 = ELAPSEDary\n",
    "dataset_2 = ELAPSEDCYCLESary\n",
    "fig, ax1 = plt.subplots() \n",
    " \n",
    "color = 'tab:red'\n",
    "ax1.set_xlabel('X-axis, Number of terms') \n",
    "ax1.set_ylabel('Y1-axis, Elapsed time in seconds', color = color) \n",
    "ax1.plot(x, dataset_1, color = color) \n",
    "ax1.tick_params(axis ='y', labelcolor = color) \n",
    "ax2 = ax1.twinx() # Adding Twin Axes to plot using dataset_2\n",
    "color = 'tab:green'\n",
    "ax2.set_ylabel('Y2-axis, Elapsed time by get CPU cycles(Sec)', color = color) \n",
    "ax2.plot(x, dataset_2, color = color) \n",
    "ax2.tick_params(axis ='y', labelcolor = color) \n",
    "plt.title('[Elapsed time (Sec)] vs [Elapsed time by get CPU cycles(Sec)]', fontweight =\"bold\") \n",
    "#plt.yscale(\"log\")\n",
    "plt.show()"
   ]
  }
 ],
 "metadata": {
  "kernelspec": {
   "display_name": "Python 3 (ipykernel)",
   "language": "python",
   "name": "python3"
  },
  "language_info": {
   "codemirror_mode": {
    "name": "ipython",
    "version": 3
   },
   "file_extension": ".py",
   "mimetype": "text/x-python",
   "name": "python",
   "nbconvert_exporter": "python",
   "pygments_lexer": "ipython3",
   "version": "3.10.4"
  }
 },
 "nbformat": 4,
 "nbformat_minor": 5
}
