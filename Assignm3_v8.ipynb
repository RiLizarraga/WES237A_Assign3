{
 "cells": [
  {
   "cell_type": "code",
   "execution_count": null,
   "id": "d4d2dc15",
   "metadata": {},
   "outputs": [],
   "source": [
    "# from lab3\n",
    "import os\n",
    "cpu = input('enter CPU number (0/1)?')\n",
    "str = \"taskset -c \"+cpu+\" python3 fib.py\"\n",
    "print(str)\n",
    "os.system(str)"
   ]
  },
  {
   "cell_type": "code",
   "execution_count": null,
   "id": "f36476d4",
   "metadata": {},
   "outputs": [],
   "source": [
    "# use psutil\n",
    "import psutil, time\n",
    "\n",
    "# Create a function to get the CPU usage\n",
    "def get_cpu_usage():\n",
    "  \"\"\"Returns the CPU usage as a percentage.\"\"\"\n",
    "  return psutil.cpu_percent()\n",
    "\n",
    "# Create a loop to continuously monitor the CPU usage\n",
    "while True:\n",
    "  # Get the CPU usage\n",
    "  cpu_usage = get_cpu_usage()\n",
    "\n",
    "  # Print the CPU usage to the console\n",
    "  print(f\"CPU usage: {cpu_usage}%\")\n",
    "\n",
    "  # Sleep for 1 second\n",
    "  time.sleep(1)"
   ]
  },
  {
   "cell_type": "code",
   "execution_count": 22,
   "id": "ec94f144",
   "metadata": {},
   "outputs": [
    {
     "name": "stdout",
     "output_type": "stream",
     "text": [
      "1667142589.5592985\n",
      "1667142590.5779364\n",
      "1.0186378955841064\n"
     ]
    }
   ],
   "source": [
    "#Implement ELAPSED TIME\n",
    "import time\n",
    "start = time.time();print(start)\n",
    "#<<<< tratar fibonacci con argumento de entrada que tome valores 1-30\n",
    "time.sleep(1)\n",
    "end = time.time();print(end)\n",
    "print(end - start)"
   ]
  },
  {
   "cell_type": "code",
   "execution_count": 1,
   "id": "f01c53de",
   "metadata": {},
   "outputs": [
    {
     "name": "stdout",
     "output_type": "stream",
     "text": [
      "Library version: 700\n",
      "  start: 5858\n",
      "   stop: 900652\n",
      "elapsed: 894794\n"
     ]
    }
   ],
   "source": [
    "#new /clock_example0/cycletime2.c version2, clock_example0\n",
    "# https://docs.python.org/3/library/ctypes.html\n",
    "\n",
    "%reset -f\n",
    "import ctypes, time\n",
    "_libInC = ctypes.CDLL('./clock_example0/libMyLib.so')\n",
    "val = _libInC.version();print(\"Library version: \"+ str(val))\n",
    "_libInC.init_cntrs(1,1)#reset=1, enable_divider=1\n",
    "start = ctypes.c_uint(_libInC.gcyclec()).value\n",
    "time.sleep(1)\n",
    "stop = ctypes.c_uint(_libInC.gcyclec()).value\n",
    "elapsed = stop-start\n",
    "print(\"  start: \"+str(start)+\"\\n\"\\\n",
    "      \"   stop: \"+str(stop)+\"\\n\"\\\n",
    "      \"elapsed: \"+str(elapsed))"
   ]
  },
  {
   "cell_type": "code",
   "execution_count": 37,
   "id": "30b8ecac",
   "metadata": {},
   "outputs": [
    {
     "name": "stdout",
     "output_type": "stream",
     "text": [
      "Library version: 700\n",
      "taskset -c 1 python3 fib.py 0\n",
      "Please enter a positive integer\n",
      "time spent: 4.100799560546875e-05\n",
      "Please enter a positive integer\n",
      "time spent: 3.9577484130859375e-05\n",
      "Please enter a positive integer\n",
      "time spent: 4.38690185546875e-05\n",
      "3 Readings : [0.2823057174682617, 0.2807629108428955, 0.2877347469329834]\n",
      "taskset -c 1 python3 fib.py 5\n",
      "time spent: 4.38690185546875e-05\n",
      "time spent: 4.291534423828125e-05\n",
      "time spent: 4.649162292480469e-05\n",
      "3 Readings : [0.28080177307128906, 0.28180789947509766, 0.2810330390930176]\n",
      "taskset -c 1 python3 fib.py 10\n",
      "time spent: 0.00033783912658691406\n",
      "time spent: 0.00034356117248535156\n",
      "time spent: 0.0003502368927001953\n",
      "3 Readings : [0.28055715560913086, 0.2814812660217285, 0.2844858169555664]\n",
      "taskset -c 1 python3 fib.py 15\n",
      "time spent: 0.003372669219970703\n",
      "time spent: 0.003466367721557617\n",
      "time spent: 0.0033731460571289062\n",
      "3 Readings : [0.28441858291625977, 0.28578996658325195, 0.2847864627838135]\n",
      "taskset -c 1 python3 fib.py 20\n",
      "time spent: 0.03591465950012207\n",
      "time spent: 0.03592538833618164\n",
      "time spent: 0.0359797477722168\n",
      "3 Readings : [0.31665730476379395, 0.32128024101257324, 0.31807374954223633]\n",
      "taskset -c 1 python3 fib.py 25\n",
      "time spent: 0.3961641788482666\n",
      "time spent: 0.3962666988372803\n",
      "time spent: 0.3959677219390869\n",
      "3 Readings : [0.6780669689178467, 0.6773550510406494, 0.6761841773986816]\n",
      "taskset -c 1 python3 fib.py 30\n",
      "time spent: 4.457427740097046\n",
      "time spent: 4.44278883934021\n",
      "time spent: 4.437021017074585\n",
      "3 Readings : [4.73832368850708, 4.72719144821167, 4.724515676498413]\n",
      "all nTerms: [0, 5, 10, 15, 20, 25, 30]\n",
      "all    avg: [0.2836011250813802, 0.28121423721313477, 0.2821747461954753, 0.2849983374277751, 0.31867043177286786, 0.677202065785726, 4.730010271072388]\n",
      "all StdDev: [0.00299000393309184, 0.0004302690275945236, 0.001677156533596681, 0.0005795638814882688, 0.0019338919572256263, 0.0007762213354140496, 0.005979109222838678]\n"
     ]
    },
    {
     "data": {
      "text/plain": [
       "[<matplotlib.lines.Line2D at 0xacae2250>]"
      ]
     },
     "execution_count": 37,
     "metadata": {},
     "output_type": "execute_result"
    },
    {
     "data": {
      "image/png": "[encoded data removed]",
      "text/plain": [
       "<Figure size 432x288 with 1 Axes>"
      ]
     },
     "metadata": {
      "needs_background": "light"
     },
     "output_type": "display_data"
    }
   ],
   "source": [
    "#@@@new /clock_example0/cycletime2.c version2, clock_example0\n",
    "# https://docs.python.org/3/library/ctypes.html\n",
    "# add python time and run fibonacci script, standard deviation ELAPSED TIME\n",
    "%reset -f\n",
    "import os, ctypes, time, math;import matplotlib.pyplot as plt \n",
    "N_TERM_Sary, avgEXEC_TIMEary, stddevEXEC_TIMEary = [], [], []\n",
    "_libInC = ctypes.CDLL('./clock_example0/libMyLib.so')\n",
    "val = _libInC.version();print(\"Library version: \"+ str(val))\n",
    "\n",
    "# Standard deviation of list, Using sum() + list comprehension \n",
    "def Stddev(test_list):\n",
    "    mean = sum(test_list) / len(test_list) \n",
    "    variance = sum([((x - mean) ** 2) for x in test_list]) / len(test_list) \n",
    "    res = variance ** 0.5\n",
    "    return res\n",
    "\n",
    "_libInC.init_cntrs(1,1)#reset=1, enable_divider=1\n",
    "for NumberOfTerms in range(0,35,5):\n",
    "    N_TERM_Sary.append(NumberOfTerms)\n",
    "    cmd = \"taskset -c 1 python3 fib.py \"+ str(NumberOfTerms);print (cmd)\n",
    "    EXEC_TIMEary = []\n",
    "    for ith in range(3):\n",
    "        start1 = ctypes.c_uint(_libInC.gcyclec()).value\n",
    "        start2 = time.time()\n",
    "        os.system(cmd)\n",
    "        stop1 = ctypes.c_uint(_libInC.gcyclec()).value\n",
    "        stop2 = time.time()\n",
    "        elapsed1 = stop1-start1\n",
    "        elapsed2 = stop2-start2\n",
    "        '''\n",
    "        print(\"Cycles elapsed (cycles), getCycles():\")\n",
    "        print(\"  start1: \"+str(start1)+\"\\n\"\\\n",
    "              \"   stop1: \"+str(stop1)+\"\\n\"\\\n",
    "              \"elapsed1: \"+str(elapsed1))\n",
    "        print(\"Time elapsed (sec), using Python time:\")\n",
    "        print(\"  start2: \"+str(start2)+\"\\n\"\\\n",
    "              \"   stop2: \"+str(stop2)+\"\\n\"\\\n",
    "              \"elapsed2: \"+str(elapsed2))\n",
    "        '''\n",
    "        EXEC_TIMEary.append(elapsed2)\n",
    "    \n",
    "    sdev = Stddev(EXEC_TIMEary)\n",
    "    avg = sum(EXEC_TIMEary) / len(EXEC_TIMEary) \n",
    "    print(\"3 Readings : \" + str(EXEC_TIMEary))\n",
    "    stddevEXEC_TIMEary.append(sdev)\n",
    "    avgEXEC_TIMEary.append(avg)\n",
    "print(\"all nTerms: \" + str(N_TERM_Sary))  \n",
    "print(\"all    avg: \" + str(avgEXEC_TIMEary))\n",
    "print(\"all StdDev: \" + str(stddevEXEC_TIMEary))\n",
    "\n",
    "import matplotlib.pyplot as plt \n",
    "x = N_TERM_Sary\n",
    "y = stddevEXEC_TIMEary\n",
    "plt.title(\"Number of terma VS [Standard deviation of elapsed time measured (3 readings)]\")\n",
    "plt.xlabel(\"number of terms\")\n",
    "plt.ylabel(\"Standard deviation\")\n",
    "plt.plot(x, y)"
   ]
  },
  {
   "cell_type": "code",
   "execution_count": 38,
   "id": "999f40c1",
   "metadata": {},
   "outputs": [
    {
     "name": "stdout",
     "output_type": "stream",
     "text": [
      "Library version: 700\n",
      "taskset -c 1 python3 fib.py 0\n",
      "Please enter a positive integer\n",
      "time spent: 3.910064697265625e-05\n",
      "Please enter a positive integer\n",
      "time spent: 4.0531158447265625e-05\n",
      "Please enter a positive integer\n",
      "time spent: 3.9577484130859375e-05\n",
      "3 Readings : [537585, 390594, 447519]\n",
      "taskset -c 1 python3 fib.py 5\n",
      "time spent: 4.3392181396484375e-05\n",
      "time spent: 4.458427429199219e-05\n",
      "time spent: 4.3392181396484375e-05\n",
      "3 Readings : [724288, 385227, 389008]\n",
      "taskset -c 1 python3 fib.py 10\n",
      "time spent: 0.00033855438232421875\n",
      "time spent: 0.00034427642822265625\n",
      "time spent: 0.0003383159637451172\n",
      "3 Readings : [387095, 387985, 833363]\n",
      "taskset -c 1 python3 fib.py 15\n",
      "time spent: 0.0034089088439941406\n",
      "time spent: 0.003468751907348633\n",
      "time spent: 0.0034089088439941406\n",
      "3 Readings : [405651, 389720, 386964]\n",
      "taskset -c 1 python3 fib.py 20\n",
      "time spent: 0.03592491149902344\n",
      "time spent: 0.0360262393951416\n",
      "time spent: 0.03585457801818848\n",
      "3 Readings : [384608, 812256, 430449]\n",
      "taskset -c 1 python3 fib.py 25\n",
      "time spent: 0.40308666229248047\n",
      "time spent: 0.3961191177368164\n",
      "time spent: 0.3960273265838623\n",
      "3 Readings : [2646753, 868044, 394107]\n",
      "taskset -c 1 python3 fib.py 30\n",
      "time spent: 4.44086766242981\n",
      "time spent: 4.439512252807617\n",
      "time spent: 4.4548540115356445\n",
      "3 Readings : [1754083, 2336424, 3929933]\n",
      "all nTerms: [0, 5, 10, 15, 20, 25, 30]\n",
      "all    avg: [458566.0, 499507.6666666667, 536147.6666666666, 394111.6666666667, 542437.6666666666, 1302968.0, 2673480.0]\n",
      "all StdDev: [60515.09826481322, 158951.193096777, 210163.29175402847, 8236.74872480371, 191706.02333144244, 969698.4633245533, 919704.9766010112]\n"
     ]
    },
    {
     "data": {
      "text/plain": [
       "[<matplotlib.lines.Line2D at 0xac9e7d78>]"
      ]
     },
     "execution_count": 38,
     "metadata": {},
     "output_type": "execute_result"
    },
    {
     "data": {
      "image/png": "[encoded data removed]",
      "text/plain": [
       "<Figure size 432x288 with 1 Axes>"
      ]
     },
     "metadata": {
      "needs_background": "light"
     },
     "output_type": "display_data"
    }
   ],
   "source": [
    "#@@@new /clock_example0/cycletime2.c version2, clock_example0\n",
    "# https://docs.python.org/3/library/ctypes.html\n",
    "# add python time and run fibonacci script, standard deviation ELAPSED cycleCounts\n",
    "%reset -f\n",
    "import os, ctypes, time, math;import matplotlib.pyplot as plt \n",
    "N_TERM_Sary, avgEXEC_TIMEary, stddevEXEC_TIMEary = [], [], []\n",
    "_libInC = ctypes.CDLL('./clock_example0/libMyLib.so')\n",
    "val = _libInC.version();print(\"Library version: \"+ str(val))\n",
    "\n",
    "# Standard deviation of list, Using sum() + list comprehension \n",
    "def Stddev(test_list):\n",
    "    mean = sum(test_list) / len(test_list) \n",
    "    variance = sum([((x - mean) ** 2) for x in test_list]) / len(test_list) \n",
    "    res = variance ** 0.5\n",
    "    return res\n",
    "\n",
    "_libInC.init_cntrs(1,1)#reset=1, enable_divider=1\n",
    "for NumberOfTerms in range(0,35,5):\n",
    "    N_TERM_Sary.append(NumberOfTerms)\n",
    "    cmd = \"taskset -c 1 python3 fib.py \"+ str(NumberOfTerms);print (cmd)\n",
    "    EXEC_TIMEary = []\n",
    "    for ith in range(3):\n",
    "        start1 = ctypes.c_uint(_libInC.gcyclec()).value\n",
    "        start2 = time.time()\n",
    "        os.system(cmd)\n",
    "        stop1 = ctypes.c_uint(_libInC.gcyclec()).value\n",
    "        stop2 = time.time()\n",
    "        elapsed1 = stop1-start1\n",
    "        elapsed2 = stop2-start2\n",
    "        EXEC_TIMEary.append(elapsed1)\n",
    "    \n",
    "    sdev = Stddev(EXEC_TIMEary)\n",
    "    avg = sum(EXEC_TIMEary) / len(EXEC_TIMEary) \n",
    "    print(\"3 Readings : \" + str(EXEC_TIMEary))\n",
    "    stddevEXEC_TIMEary.append(sdev)\n",
    "    avgEXEC_TIMEary.append(avg)\n",
    "print(\"all nTerms: \" + str(N_TERM_Sary))  \n",
    "print(\"all    avg: \" + str(avgEXEC_TIMEary))\n",
    "print(\"all StdDev: \" + str(stddevEXEC_TIMEary))\n",
    "\n",
    "import matplotlib.pyplot as plt \n",
    "x = N_TERM_Sary\n",
    "y = stddevEXEC_TIMEary\n",
    "plt.title(\"Number of terma VS [Standard deviation of Cycle Counts (3 readings)]\")\n",
    "plt.xlabel(\"number of terms\")\n",
    "plt.ylabel(\"Standard deviation(Cycle Counts)\")\n",
    "plt.plot(x, y)"
   ]
  },
  {
   "cell_type": "code",
   "execution_count": 2,
   "id": "9b9aed6a",
   "metadata": {},
   "outputs": [
    {
     "name": "stdout",
     "output_type": "stream",
     "text": [
      "Library version: 700\n",
      "taskset -c 1 python3 fib.py 0\n",
      "Please enter a positive integer\n",
      "time spent: 3.981590270996094e-05\n",
      "Please enter a positive integer\n",
      "time spent: 3.9577484130859375e-05\n",
      "Please enter a positive integer\n",
      "time spent: 4.100799560546875e-05\n",
      "3 Readings : [410606, 394479, 397248]\n",
      "taskset -c 1 python3 fib.py 5\n",
      "time spent: 4.315376281738281e-05\n",
      "time spent: 4.363059997558594e-05\n",
      "time spent: 4.506111145019531e-05\n",
      "3 Readings : [405537, 873139, 386854]\n",
      "taskset -c 1 python3 fib.py 10\n",
      "time spent: 0.0003364086151123047\n",
      "time spent: 0.0003380775451660156\n",
      "time spent: 0.00034499168395996094\n",
      "3 Readings : [386149, 395762, 422180]\n",
      "taskset -c 1 python3 fib.py 15\n",
      "time spent: 0.003447294235229492\n",
      "time spent: 0.003374814987182617\n",
      "time spent: 0.0034360885620117188\n",
      "3 Readings : [430528, 845592, 407685]\n",
      "taskset -c 1 python3 fib.py 20\n",
      "time spent: 0.0359346866607666\n",
      "time spent: 0.03584432601928711\n",
      "time spent: 0.0359339714050293\n",
      "3 Readings : [389444, 389000, 448988]\n",
      "taskset -c 1 python3 fib.py 25\n",
      "time spent: 0.39617252349853516\n",
      "time spent: 0.3960864543914795\n",
      "time spent: 0.3964650630950928\n",
      "3 Readings : [855102, 392993, 787929]\n",
      "taskset -c 1 python3 fib.py 30\n",
      "time spent: 4.458937644958496\n",
      "time spent: 4.440706968307495\n",
      "time spent: 4.440298318862915\n",
      "3 Readings : [3962897, 1923679, 1824311]\n",
      "all nTerms: [0, 5, 10, 15, 20, 25, 30]\n",
      "all    avg: [400777.6666666667, 555176.6666666666, 401363.6666666667, 561268.3333333334, 409144.0, 678674.6666666666, 2570295.6666666665]\n",
      "all StdDev: [7041.01992296255, 224962.66014064546, 15233.564746601134, 201263.36184600406, 28174.545675130237, 203860.350868486, 985553.095155992]\n"
     ]
    },
    {
     "data": {
      "text/plain": [
       "<ErrorbarContainer object of 3 artists>"
      ]
     },
     "execution_count": 2,
     "metadata": {},
     "output_type": "execute_result"
    },
    {
     "data": {
      "image/png": "[encoded data removed]",
      "text/plain": [
       "<Figure size 432x288 with 1 Axes>"
      ]
     },
     "metadata": {
      "needs_background": "light"
     },
     "output_type": "display_data"
    }
   ],
   "source": [
    "#@@@new /clock_example0/cycletime2.c version2, clock_example0\n",
    "# https://docs.python.org/3/library/ctypes.html\n",
    "# add python time and run fibonacci script, std deviation ELAPSED cycleCounts plus error bars\n",
    "%reset -f\n",
    "import os, ctypes, time, math;import matplotlib.pyplot as plt \n",
    "N_TERM_Sary, avgEXEC_TIMEary, stddevEXEC_TIMEary = [], [], []\n",
    "_libInC = ctypes.CDLL('./clock_example0/libMyLib.so')\n",
    "val = _libInC.version();print(\"Library version: \"+ str(val))\n",
    "\n",
    "# Standard deviation of list, Using sum() + list comprehension \n",
    "def Stddev(test_list):\n",
    "    mean = sum(test_list) / len(test_list) \n",
    "    variance = sum([((x - mean) ** 2) for x in test_list]) / len(test_list) \n",
    "    res = variance ** 0.5\n",
    "    return res\n",
    "\n",
    "_libInC.init_cntrs(1,1)#reset=1, enable_divider=1\n",
    "for NumberOfTerms in range(0,35,5):\n",
    "    N_TERM_Sary.append(NumberOfTerms)\n",
    "    cmd = \"taskset -c 1 python3 fib.py \"+ str(NumberOfTerms);print (cmd)\n",
    "    EXEC_TIMEary = []\n",
    "    for ith in range(3):\n",
    "        start1 = ctypes.c_uint(_libInC.gcyclec()).value\n",
    "        start2 = time.time()\n",
    "        os.system(cmd)\n",
    "        stop1 = ctypes.c_uint(_libInC.gcyclec()).value\n",
    "        stop2 = time.time()\n",
    "        elapsed1 = stop1-start1\n",
    "        elapsed2 = stop2-start2\n",
    "        EXEC_TIMEary.append(elapsed1)\n",
    "    \n",
    "    sdev = Stddev(EXEC_TIMEary)\n",
    "    avg = sum(EXEC_TIMEary) / len(EXEC_TIMEary) \n",
    "    print(\"3 Readings : \" + str(EXEC_TIMEary))\n",
    "    stddevEXEC_TIMEary.append(sdev)\n",
    "    avgEXEC_TIMEary.append(avg)\n",
    "print(\"all nTerms: \" + str(N_TERM_Sary))  \n",
    "print(\"all    avg: \" + str(avgEXEC_TIMEary))\n",
    "print(\"all StdDev: \" + str(stddevEXEC_TIMEary))\n",
    "\n",
    "import matplotlib.pyplot as plt \n",
    "x = N_TERM_Sary\n",
    "y = stddevEXEC_TIMEary\n",
    "plt.title(\"Number of terms VS [Average of Cycle Counts (3 readings)] with error bars\")\n",
    "plt.xlabel(\"number of terms\")\n",
    "plt.ylabel(\"Standard deviation(Cycle Counts)\")\n",
    "\n",
    "y_error = avgEXEC_TIMEary\n",
    "plt.plot(x, y)\n",
    "plt.errorbar(x, y,\n",
    "             yerr = y_error,\n",
    "             fmt ='o')\n"
   ]
  },
  {
   "cell_type": "code",
   "execution_count": 2,
   "id": "bbbf0302",
   "metadata": {},
   "outputs": [
    {
     "name": "stdout",
     "output_type": "stream",
     "text": [
      "Library version: 700\n",
      "taskset -c 1 python3 fib.py 0\n",
      "Please enter a positive integer\n",
      "time spent: 3.8623809814453125e-05\n",
      "taskset -c 1 python3 fib.py 5\n",
      "time spent: 4.5299530029296875e-05\n",
      "taskset -c 1 python3 fib.py 10\n",
      "time spent: 0.000339508056640625\n",
      "taskset -c 1 python3 fib.py 15\n",
      "time spent: 0.003369569778442383\n",
      "taskset -c 1 python3 fib.py 20\n",
      "time spent: 0.035964250564575195\n",
      "taskset -c 1 python3 fib.py 25\n",
      "time spent: 0.39615368843078613\n",
      "taskset -c 1 python3 fib.py 30\n",
      "time spent: 4.441561698913574\n",
      "all     nTerms: [0, 5, 10, 15, 20, 25, 30]\n",
      "all   elapsed1: [0.04315480307692308, 0.2914146476923077, 0.06167966769230769, 0.03857442769230769, 0.03841540153846154, 0.08552718153846153, 0.16923483076923077]\n",
      "all   elapsed2: [0.2822880744934082, 0.3119163513183594, 0.2949042320251465, 0.2841169834136963, 0.317455530166626, 0.6771078109741211, 4.721894979476929]\n",
      "all Difference: [0.23913327141648513, 0.020501703626051693, 0.23322456433283878, 0.2455425557213886, 0.2790401286281644, 0.5915806294356596, 4.552660148707698]\n"
     ]
    },
    {
     "data": {
      "text/plain": [
       "<ErrorbarContainer object of 3 artists>"
      ]
     },
     "execution_count": 2,
     "metadata": {},
     "output_type": "execute_result"
    },
    {
     "data": {
      "image/png": "[encoded data removed]",
      "text/plain": [
       "<Figure size 432x288 with 1 Axes>"
      ]
     },
     "metadata": {
      "needs_background": "light"
     },
     "output_type": "display_data"
    }
   ],
   "source": [
    "#@@@new /clock_example0/cycletime2.c version2, clock_example0\n",
    "# https://docs.python.org/3/library/ctypes.html\n",
    "# add python time and run fibonacci script, std deviation ELAPSED cycleCounts plus error bars\n",
    "#@@ convert Cycle Counts to Timing (sec), for comparasion\n",
    "%reset -f\n",
    "import os, ctypes, time, math;import matplotlib.pyplot as plt \n",
    "N_TERM_Sary, avgEXEC_TIMEary, stddevEXEC_TIMEary = [], [], []\n",
    "_libInC = ctypes.CDLL('./clock_example0/libMyLib.so')\n",
    "val = _libInC.version();print(\"Library version: \"+ str(val))\n",
    "\n",
    "# Standard deviation of list, Using sum() + list comprehension \n",
    "def Stddev(test_list):\n",
    "    mean = sum(test_list) / len(test_list) \n",
    "    variance = sum([((x - mean) ** 2) for x in test_list]) / len(test_list) \n",
    "    res = variance ** 0.5\n",
    "    return res\n",
    "\n",
    "def Cycles2Seconds(cycles):\n",
    "    JustOneCycle = 1/650000000 #seconds\n",
    "    return (cycles * JustOneCycle)\n",
    "\n",
    "_libInC.init_cntrs(1,0)#reset=1, enable_divider=1\n",
    "ELAPSED1_DIFFary = []\n",
    "ELAPSED2_DIFFary = []\n",
    "ELAPSED__DIFFary = []\n",
    "for NumberOfTerms in range(0,35,5):\n",
    "    N_TERM_Sary.append(NumberOfTerms)\n",
    "    cmd = \"taskset -c 1 python3 fib.py \"+ str(NumberOfTerms);print (cmd)\n",
    "    EXEC_TIMEary = []\n",
    "    start1 = ctypes.c_uint(_libInC.gcyclec()).value\n",
    "    start2 = time.time()\n",
    "    os.system(cmd)\n",
    "    stop1 = ctypes.c_uint(_libInC.gcyclec()).value\n",
    "    stop2 = time.time()\n",
    "    elapsed1 = stop1-start1\n",
    "    elapsed1 = Cycles2Seconds(elapsed1)\n",
    "    elapsed2 = stop2-start2\n",
    "    diff = elapsed2-elapsed1\n",
    "    ELAPSED1_DIFFary.append(elapsed1)\n",
    "    ELAPSED2_DIFFary.append(elapsed2)\n",
    "    ELAPSED__DIFFary.append(diff)\n",
    "\n",
    "print(\"all     nTerms: \" + str(N_TERM_Sary))  \n",
    "print(\"all   elapsed1: \" + str(ELAPSED1_DIFFary))\n",
    "print(\"all   elapsed2: \" + str(ELAPSED2_DIFFary))\n",
    "print(\"all Difference: \" + str(ELAPSED__DIFFary))\n",
    "\n",
    "import matplotlib.pyplot as plt \n",
    "x = N_TERM_Sary\n",
    "y = ELAPSED2_DIFFary\n",
    "plt.title(\"Number of terms VS [Elapsed timing] vs [Cycle counts timing] comparasion\")\n",
    "plt.xlabel(\"number of terms\")\n",
    "plt.ylabel(\"Timing Difference [Cycle counts VS Timing])\")\n",
    "\n",
    "y_error = ELAPSED__DIFFary\n",
    "plt.plot(x, y)\n",
    "plt.errorbar(x, y,\n",
    "             yerr = y_error,\n",
    "             fmt ='o')"
   ]
  },
  {
   "cell_type": "code",
   "execution_count": 5,
   "id": "13e4b3a5",
   "metadata": {},
   "outputs": [
    {
     "name": "stdout",
     "output_type": "stream",
     "text": [
      "1.0\n"
     ]
    }
   ],
   "source": [
    "def Cycles2Seconds(cycles):\n",
    "    JustOneCycle = 1/650000000 #seconds\n",
    "    return (cycles * JustOneCycle)\n",
    "\n",
    "cycles = 650000000\n",
    "TimeElapsedInSeconds = Cycles2Seconds(cycles)\n",
    "print(TimeElapsedInSeconds)"
   ]
  },
  {
   "cell_type": "code",
   "execution_count": 30,
   "id": "e0958a3f",
   "metadata": {},
   "outputs": [
    {
     "data": {
      "text/plain": [
       "<ErrorbarContainer object of 3 artists>"
      ]
     },
     "execution_count": 30,
     "metadata": {},
     "output_type": "execute_result"
    },
    {
     "data": {
      "image/png": "[encoded data removed]",
      "text/plain": [
       "<Figure size 432x288 with 1 Axes>"
      ]
     },
     "metadata": {
      "needs_background": "light"
     },
     "output_type": "display_data"
    }
   ],
   "source": [
    " # importing matplotlib\n",
    "import matplotlib.pyplot as plt \n",
    "# making a simple plot\n",
    "x =[1, 2, 3, 4, 5, 6, 7]\n",
    "y =[1, 2, 1, 2, 1, 2, 1]\n",
    " \n",
    "# creating error\n",
    "y_error = 0.2\n",
    " \n",
    "# plotting graph\n",
    "plt.plot(x, y)\n",
    " \n",
    "plt.errorbar(x, y,\n",
    "             yerr = y_error,\n",
    "             fmt ='o')"
   ]
  },
  {
   "cell_type": "code",
   "execution_count": null,
   "id": "8789bd66",
   "metadata": {},
   "outputs": [],
   "source": [
    "#Cycles To Seconds Formula\n",
    "f = 3e9#650000000\n",
    "cycles = 100\n",
    "\n",
    "secs=(1/( *f))*cycles\n",
    "\n",
    "print(secs)\n"
   ]
  },
  {
   "cell_type": "code",
   "execution_count": null,
   "id": "25dded08",
   "metadata": {},
   "outputs": [],
   "source": [
    "f = 650000000\n",
    "JustOneCycle = 1/f #secons\n",
    "print(JustOneCycle)\n",
    "print(\"----------\")\n",
    "cycles = 3000000000\n",
    "TimeElapsedInSeconds = cycles * JustOneCycle\n",
    "print(TimeElapsedInSeconds)"
   ]
  },
  {
   "cell_type": "code",
   "execution_count": null,
   "id": "5a050410",
   "metadata": {},
   "outputs": [],
   "source": [
    "# Part A3.2: Comparing and Gathering Data, ERROR BAR (running fibonacci sequence) \n",
    "%reset -f\n",
    "CPU, TERMSary, ELAPSEDary, ELAPSEDCYCLESary = \"1\", [], [], []\n",
    "\n",
    "import os, ctypes, time, math;import matplotlib.pyplot as plt \n",
    "f = 650000\n",
    "JustOneCycle = 1/f #secons\n",
    "\n",
    "def Average(lst): \n",
    "    return sum(lst) / len(lst) \n",
    "\n",
    "_libInC = ctypes.CDLL('./clock_example0/libMyLib.so')\n",
    "val = _libInC.version();print(\"Library version: \"+ str(val))\n",
    "_libInC.init_cntrs(1,1)\n",
    "for NumberOfTerms in range(0,35,5):\n",
    "    cmd = \"taskset -c \"+CPU+\" python3 fib.py \"+ str(NumberOfTerms);print (cmd)\n",
    "    start = time.time()\n",
    "    #_libInC.init_cntrs(1,1)\n",
    "    StartCycles = ctypes.c_uint(_libInC.gcyclec()).value \n",
    "    os.system(cmd)\n",
    "    lst = []\n",
    "    #for n in range(4):\n",
    "    #    cycles = ctypes.c_uint(_libInC.gcyclec()).value        \n",
    "    #    lst.append(cycles)\n",
    "    #ave = Average(lst)\n",
    "    StopCycles = ctypes.c_uint(_libInC.gcyclec()).value \n",
    "    ElapsedTimeCycles = StopCycles - StartCycles\n",
    "    TimeElapsedInSeconds = ElapsedTimeCycles * JustOneCycle\n",
    "    #TimeElapsedInSeconds = round(TimeElapsedInSeconds, 9)\n",
    "    end = time.time();elapsed = end - start;elapsed = round(elapsed, 9)\n",
    "    print(cmd+\"-> NumberOfTerms: \"+ str(NumberOfTerms)+ \":\\nElapsed time = \" +str(elapsed)\\\n",
    "          +\", Elapsed Seconds by get cycles = \"+str(TimeElapsedInSeconds))\n",
    "    TERMSary.append(NumberOfTerms);ELAPSEDary.append(elapsed);ELAPSEDCYCLESary.append(TimeElapsedInSeconds)  \n",
    "    lst = []\n",
    "\n",
    "x = TERMSary\n",
    "dataset_1 = ELAPSEDary\n",
    "dataset_2 = ELAPSEDCYCLESary\n",
    "fig, ax1 = plt.subplots() \n",
    " \n",
    "color = 'tab:red'\n",
    "ax1.set_xlabel('X-axis, Number of terms') \n",
    "ax1.set_ylabel('Y1-axis, Elapsed time in seconds', color = color) \n",
    "ax1.plot(x, dataset_1, color = color) \n",
    "ax1.tick_params(axis ='y', labelcolor = color) \n",
    "ax2 = ax1.twinx() # Adding Twin Axes to plot using dataset_2\n",
    "color = 'tab:green'\n",
    "ax2.set_ylabel('Y2-axis, Elapsed time by get CPU cycles(Sec)', color = color) \n",
    "ax2.plot(x, dataset_2, color = color) \n",
    "ax2.tick_params(axis ='y', labelcolor = color) \n",
    "plt.title('[Elapsed time (Sec)] vs [Elapsed time by get CPU cycles(Sec)]', fontweight =\"bold\") \n",
    "#plt.yscale(\"log\")\n",
    "plt.show()"
   ]
  },
  {
   "cell_type": "code",
   "execution_count": 3,
   "id": "d4e69292",
   "metadata": {},
   "outputs": [
    {
     "name": "stdout",
     "output_type": "stream",
     "text": [
      "Library version: 700\n",
      "taskset -c 1 python3 fib.py 0\n",
      "Please enter a positive integer\n",
      "time spent: 3.8623809814453125e-05\n",
      "taskset -c 1 python3 fib.py 0-> NumberOfTerms: 0 -> Elapsed time = 0.2854857, cycles = 182654923.25\n",
      "taskset -c 1 python3 fib.py 5\n",
      "time spent: 4.38690185546875e-05\n",
      "taskset -c 1 python3 fib.py 5-> NumberOfTerms: 5 -> Elapsed time = 0.2801116, cycles = 179635468.25\n",
      "taskset -c 1 python3 fib.py 10\n",
      "time spent: 0.00034427642822265625\n",
      "taskset -c 1 python3 fib.py 10-> NumberOfTerms: 10 -> Elapsed time = 0.2799449, cycles = 179563247.25\n",
      "taskset -c 1 python3 fib.py 15\n",
      "time spent: 0.0034863948822021484\n",
      "taskset -c 1 python3 fib.py 15-> NumberOfTerms: 15 -> Elapsed time = 0.283051, cycles = 181602819.0\n",
      "taskset -c 1 python3 fib.py 20\n",
      "time spent: 0.03589892387390137\n",
      "taskset -c 1 python3 fib.py 20-> NumberOfTerms: 20 -> Elapsed time = 0.3169413, cycles = 203540381.0\n",
      "taskset -c 1 python3 fib.py 25\n",
      "time spent: 0.39631080627441406\n",
      "taskset -c 1 python3 fib.py 25-> NumberOfTerms: 25 -> Elapsed time = 0.6766727, cycles = 437420747.0\n",
      "taskset -c 1 python3 fib.py 30\n",
      "time spent: 4.435394048690796\n",
      "taskset -c 1 python3 fib.py 30-> NumberOfTerms: 30 -> Elapsed time = 4.7155745, cycles = 3062687988.5\n",
      "taskset -c 1 python3 fib.py 35\n",
      "time spent: 48.941927671432495\n",
      "taskset -c 1 python3 fib.py 35-> NumberOfTerms: 35 -> Elapsed time = 49.2225311, cycles = 1927318739.5\n"
     ]
    },
    {
     "data": {
      "image/png": "[encoded data removed]",
      "text/plain": [
       "<Figure size 432x288 with 2 Axes>"
      ]
     },
     "metadata": {
      "needs_background": "light"
     },
     "output_type": "display_data"
    }
   ],
   "source": [
    "# Part A3.2: Comparing and Gathering Data, (running fibonacci sequence) \n",
    "%reset -f\n",
    "CPU, TERMSary, ELAPSEDary, CYCLESary = \"1\", [], [], []\n",
    "\n",
    "import os, ctypes, time, math;import matplotlib.pyplot as plt \n",
    "\n",
    "def Average(lst): \n",
    "    return sum(lst) / len(lst) \n",
    "\n",
    "_libInC = ctypes.CDLL('./clock_example0/libMyLib.so')\n",
    "val = _libInC.version();print(\"Library version: \"+ str(val))\n",
    "for NumberOfTerms in range(0,40,5):\n",
    "    cmd = \"taskset -c \"+CPU+\" python3 fib.py \"+ str(NumberOfTerms);print (cmd)\n",
    "    start = time.time()\n",
    "    _libInC.init_cntrs(1,0)\n",
    "    os.system(cmd)\n",
    "    lst = []\n",
    "    for n in range(4):\n",
    "        cycles = ctypes.c_uint(_libInC.gcyclec()).value        \n",
    "        lst.append(cycles)\n",
    "    ave = Average(lst) \n",
    "    end = time.time();elapsed = end - start;elapsed = round(elapsed, 7)\n",
    "    print(cmd+\"-> NumberOfTerms: \"+ str(NumberOfTerms)+ \" -> Elapsed time = \" +str(elapsed)\\\n",
    "          +\", cycles = \"+str(ave))\n",
    "    TERMSary.append(NumberOfTerms);ELAPSEDary.append(elapsed);CYCLESary.append(ave)  \n",
    "    lst = []\n",
    "\n",
    "x = TERMSary\n",
    "dataset_1 = ELAPSEDary\n",
    "dataset_2 = CYCLESary\n",
    "fig, ax1 = plt.subplots() \n",
    " \n",
    "color = 'tab:red'\n",
    "ax1.set_xlabel('X-axis, Number of terms') \n",
    "ax1.set_ylabel('Y1-axis, Elapsed time in seconds', color = color) \n",
    "ax1.plot(x, dataset_1, color = color) \n",
    "ax1.tick_params(axis ='y', labelcolor = color) \n",
    "ax2 = ax1.twinx() # Adding Twin Axes to plot using dataset_2\n",
    "color = 'tab:green'\n",
    "ax2.set_ylabel('Y2-axis, CPU cycles', color = color) \n",
    "ax2.plot(x, dataset_2, color = color) \n",
    "ax2.tick_params(axis ='y', labelcolor = color) \n",
    "plt.title('[Elapsed time in seconds(log)] vs [CPU cycles(log)]', fontweight =\"bold\") \n",
    "plt.yscale(\"log\")\n",
    "plt.show()"
   ]
  }
 ],
 "metadata": {
  "kernelspec": {
   "display_name": "Python 3 (ipykernel)",
   "language": "python",
   "name": "python3"
  },
  "language_info": {
   "codemirror_mode": {
    "name": "ipython",
    "version": 3
   },
   "file_extension": ".py",
   "mimetype": "text/x-python",
   "name": "python",
   "nbconvert_exporter": "python",
   "pygments_lexer": "ipython3",
   "version": "3.10.4"
  }
 },
 "nbformat": 4,
 "nbformat_minor": 5
}
